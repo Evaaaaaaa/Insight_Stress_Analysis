{
  "nbformat": 4,
  "nbformat_minor": 0,
  "metadata": {
    "kernelspec": {
      "name": "python3",
      "display_name": "Python 3"
    },
    "language_info": {
      "codemirror_mode": {
        "name": "ipython",
        "version": 3
      },
      "file_extension": ".py",
      "mimetype": "text/x-python",
      "name": "python",
      "nbconvert_exporter": "python",
      "pygments_lexer": "ipython3",
      "version": "3.7.6"
    },
    "toc": {
      "base_numbering": 1,
      "nav_menu": {},
      "number_sections": true,
      "sideBar": true,
      "skip_h1_title": true,
      "title_cell": "Table of Contents",
      "title_sidebar": "Contents",
      "toc_cell": false,
      "toc_position": {
        "height": "calc(100% - 180px)",
        "left": "10px",
        "top": "150px",
        "width": "242.594px"
      },
      "toc_section_display": true,
      "toc_window_display": true
    },
    "colab": {
      "name": "Stress_Analysis_Embedding.ipynb",
      "provenance": [],
      "collapsed_sections": [],
      "toc_visible": true
    },
    "accelerator": "GPU"
  },
  "cells": [
    {
      "cell_type": "markdown",
      "metadata": {
        "id": "uR86zXHtjnAa",
        "colab_type": "text"
      },
      "source": [
        "# Stress Analysis in Social Media\n",
        "\n",
        "Leverage the newly published and labelled reddit dataset for stress analysis to develop and improve supervised learning methods for identifying stress, both neural and traditional, and analyze the complexity and diversity of the data and characteristics of each category."
      ]
    },
    {
      "cell_type": "code",
      "metadata": {
        "id": "4qts8UB_jt51",
        "colab_type": "code",
        "colab": {
          "base_uri": "https://localhost:8080/",
          "height": 119
        },
        "outputId": "53ec0aac-bfa6-41e7-b702-62eec38480b8"
      },
      "source": [
        "! git clone https://github.com/gillian850413/Insight_Stress_Analysis.git"
      ],
      "execution_count": 2,
      "outputs": [
        {
          "output_type": "stream",
          "text": [
            "Cloning into 'Insight_Stress_Analysis'...\n",
            "remote: Enumerating objects: 64, done.\u001b[K\n",
            "remote: Counting objects: 100% (64/64), done.\u001b[K\n",
            "remote: Compressing objects: 100% (47/47), done.\u001b[K\n",
            "remote: Total 64 (delta 13), reused 56 (delta 8), pack-reused 0\u001b[K\n",
            "Unpacking objects: 100% (64/64), done.\n"
          ],
          "name": "stdout"
        }
      ]
    },
    {
      "cell_type": "code",
      "metadata": {
        "id": "OXXy2i8IjnAd",
        "colab_type": "code",
        "colab": {}
      },
      "source": [
        "import pandas as pd\n",
        "import numpy as np \n",
        "import matplotlib.pyplot as plt\n",
        "import matplotlib.colors as mcolors\n",
        "import seaborn as sns\n",
        "import re\n",
        "import string\n",
        "from collections import defaultdict\n",
        "\n",
        "import nltk\n",
        "from nltk.corpus import stopwords\n",
        "from nltk.corpus import RegexpTokenizer\n",
        "from nltk.stem import WordNetLemmatizer\n",
        "from nltk.stem.porter import PorterStemmer\n",
        "\n",
        "from sklearn.feature_extraction.text import CountVectorizer\n",
        "from sklearn.feature_extraction.text import TfidfVectorizer\n",
        "from sklearn.decomposition import PCA\n",
        "from sklearn.linear_model import LogisticRegression\n",
        "from sklearn.svm import LinearSVC\n",
        "from sklearn.naive_bayes import GaussianNB\n",
        "from sklearn.ensemble import RandomForestClassifier, AdaBoostClassifier, GradientBoostingClassifier\n",
        "from sklearn.neighbors import KNeighborsClassifier\n",
        "from sklearn.tree import DecisionTreeClassifier\n",
        "from sklearn.metrics import accuracy_score, confusion_matrix, precision_score, recall_score, f1_score\n",
        "from sklearn.metrics import precision_recall_fscore_support\n",
        "from sklearn.model_selection import train_test_split\n",
        "from sklearn.manifold import TSNE\n",
        "\n",
        "from wordcloud import WordCloud"
      ],
      "execution_count": 0,
      "outputs": []
    },
    {
      "cell_type": "code",
      "metadata": {
        "id": "Jtp8orZzkHoA",
        "colab_type": "code",
        "colab": {
          "base_uri": "https://localhost:8080/",
          "height": 102
        },
        "outputId": "8acb0a6b-2597-493e-e940-78dba4a6646a"
      },
      "source": [
        "nltk.download('stopwords')\n",
        "nltk.download('wordnet')"
      ],
      "execution_count": 4,
      "outputs": [
        {
          "output_type": "stream",
          "text": [
            "[nltk_data] Downloading package stopwords to /root/nltk_data...\n",
            "[nltk_data]   Unzipping corpora/stopwords.zip.\n",
            "[nltk_data] Downloading package wordnet to /root/nltk_data...\n",
            "[nltk_data]   Unzipping corpora/wordnet.zip.\n"
          ],
          "name": "stdout"
        },
        {
          "output_type": "execute_result",
          "data": {
            "text/plain": [
              "True"
            ]
          },
          "metadata": {
            "tags": []
          },
          "execution_count": 4
        }
      ]
    },
    {
      "cell_type": "markdown",
      "metadata": {
        "id": "dHFAsIQVjnAk",
        "colab_type": "text"
      },
      "source": [
        "## Data Preprocessing\n",
        "Possible approach of data preprocessing and feature engineeing \n",
        "- Tokenization, Removal of punctuations.\n",
        "- Removal of commonly used words (stopwords).\n",
        "- Lemmatization or Stemming (Normalization)"
      ]
    },
    {
      "cell_type": "code",
      "metadata": {
        "id": "uIxddMwijnAl",
        "colab_type": "code",
        "colab": {}
      },
      "source": [
        "path = '/content/Insight_Stress_Analysis/data/' \n",
        "train = pd.read_csv(path + 'dreaddit-train.csv', encoding = \"ISO-8859-1\")\n",
        "test = pd.read_csv(path + 'dreaddit-test.csv', encoding = \"ISO-8859-1\")"
      ],
      "execution_count": 0,
      "outputs": []
    },
    {
      "cell_type": "code",
      "metadata": {
        "id": "J150PjlnjnAo",
        "colab_type": "code",
        "colab": {}
      },
      "source": [
        "domain = {'domesticviolence':'abuse',\n",
        "          'survivorsofabuse':'abuse',\n",
        "          'anxiety': 'anxiety',\n",
        "          'stress': 'anxiety', \n",
        "          'almosthomeless': 'financial',\n",
        "          'assistance': 'financial',\n",
        "          'food_pantry': 'financial', \n",
        "          'homeless': 'financial',\n",
        "          'ptsd': 'ptsd',\n",
        "          'relationships': 'social'}\n",
        "\n",
        "train['domain'] = train['subreddit'].map(domain)\n",
        "test['domain'] = test['subreddit'].map(domain)"
      ],
      "execution_count": 0,
      "outputs": []
    },
    {
      "cell_type": "markdown",
      "metadata": {
        "id": "7To4kIuTjnAr",
        "colab_type": "text"
      },
      "source": [
        "### Tokenization & Remove punctuations"
      ]
    },
    {
      "cell_type": "code",
      "metadata": {
        "id": "5dLaURRQjnAt",
        "colab_type": "code",
        "colab": {}
      },
      "source": [
        "# tokenization: breaks the string into list of words\n",
        "# tokenizer = RegexpTokenizer(r'\\w+')\n",
        "tokenizer = RegexpTokenizer(r'[a-zA-Z]{2,}') # remove number and words that length = 1\n",
        "train['processed_text'] = train['text'].apply(lambda x: tokenizer.tokenize(x.lower()))\n",
        "test['processed_text'] = test['text'].apply(lambda x: tokenizer.tokenize(x.lower()))"
      ],
      "execution_count": 0,
      "outputs": []
    },
    {
      "cell_type": "markdown",
      "metadata": {
        "id": "UnLgGQv0jnA0",
        "colab_type": "text"
      },
      "source": [
        "### Remove Stopwords"
      ]
    },
    {
      "cell_type": "code",
      "metadata": {
        "id": "qO243OwYjnA0",
        "colab_type": "code",
        "colab": {}
      },
      "source": [
        "def remove_stopwords(text):\n",
        "    words = [w for w in text if w not in stopwords.words('english')]\n",
        "    return words"
      ],
      "execution_count": 0,
      "outputs": []
    },
    {
      "cell_type": "code",
      "metadata": {
        "id": "Icd0M75LjnA3",
        "colab_type": "code",
        "colab": {}
      },
      "source": [
        "train['processed_text'] = train['processed_text'].apply(lambda x: remove_stopwords(x))\n",
        "test['processed_text'] = test['processed_text'].apply(lambda x: remove_stopwords(x))"
      ],
      "execution_count": 0,
      "outputs": []
    },
    {
      "cell_type": "markdown",
      "metadata": {
        "id": "az2nhsKxjnA6",
        "colab_type": "text"
      },
      "source": [
        "### Stemming & Lemmatization\n",
        "Text normalization"
      ]
    },
    {
      "cell_type": "code",
      "metadata": {
        "id": "xk5P-_x9jnA7",
        "colab_type": "code",
        "colab": {
          "base_uri": "https://localhost:8080/",
          "height": 34
        },
        "outputId": "9aa0e2e2-2fa1-46de-b82d-a10b97dec4cf"
      },
      "source": [
        "%%\n",
        "# stemming\n",
        "stemmer = PorterStemmer()\n",
        "\n",
        "def word_stemmer(text):\n",
        "    stem_text = [stemmer.stem(i) for i in text]\n",
        "    return stem_text\n",
        "\n",
        "train['processed_text'] = train['processed_text'].apply(lambda x: word_stemmer(x))\n",
        "test['processed_text'] = test['processed_text'].apply(lambda x: word_stemmer(x))"
      ],
      "execution_count": 13,
      "outputs": [
        {
          "output_type": "stream",
          "text": [
            "UsageError: Cell magic `%%` not found.\n"
          ],
          "name": "stderr"
        }
      ]
    },
    {
      "cell_type": "code",
      "metadata": {
        "id": "yNfVav2rjnA-",
        "colab_type": "code",
        "colab": {}
      },
      "source": [
        "# lemmatization\n",
        "lemmatizer = WordNetLemmatizer()\n",
        "\n",
        "def word_lemmatizer(text):\n",
        "    lem_text = [lemmatizer.lemmatize(i) for i in text]\n",
        "    return lem_text\n",
        "\n",
        "train['processed_text'] = train['processed_text'].apply(lambda x: word_lemmatizer(x))\n",
        "test['processed_text'] = test['processed_text'].apply(lambda x: word_lemmatizer(x))"
      ],
      "execution_count": 0,
      "outputs": []
    },
    {
      "cell_type": "markdown",
      "metadata": {
        "id": "gn6f-4DljnBB",
        "colab_type": "text"
      },
      "source": [
        "## Feature Extraction"
      ]
    },
    {
      "cell_type": "markdown",
      "metadata": {
        "id": "Z0Pc5HJ-KX7q",
        "colab_type": "text"
      },
      "source": [
        "### Word2Vec + TF-IDF"
      ]
    },
    {
      "cell_type": "code",
      "metadata": {
        "id": "n4WA5MDhKXOu",
        "colab_type": "code",
        "colab": {}
      },
      "source": [
        "from gensim.models import Word2Vec\n",
        "from gensim.models.doc2vec import Doc2Vec, TaggedDocument"
      ],
      "execution_count": 0,
      "outputs": []
    },
    {
      "cell_type": "code",
      "metadata": {
        "id": "UsXxf1abhBBj",
        "colab_type": "code",
        "colab": {}
      },
      "source": [
        "word2vec = Word2Vec(train['processed_text'],\n",
        "                size=100,\n",
        "                window=10,\n",
        "                min_count=2,\n",
        "                workers=10,\n",
        "                iter=100)"
      ],
      "execution_count": 0,
      "outputs": []
    },
    {
      "cell_type": "code",
      "metadata": {
        "id": "ysAaq3dIudlv",
        "colab_type": "code",
        "colab": {
          "base_uri": "https://localhost:8080/",
          "height": 190
        },
        "outputId": "fc1dc55a-2758-449d-ea4a-42f96f99768d"
      },
      "source": [
        "# find the similar words\n",
        "semantically_similar_words = {words: [item[0] for item in word2vec.wv.most_similar([words], topn=5)]\n",
        "                  for words in ['abuse', 'anxiety', 'financial', 'ptsd', 'social', 'stress', 'love']}\n",
        "\n",
        "for k,v in semantically_similar_words.items():\n",
        "    print(k+\":\"+str(v))"
      ],
      "execution_count": 55,
      "outputs": [
        {
          "output_type": "stream",
          "text": [
            "abuse:['sexual', 'stage', 'physical', 'blaming', 'endured']\n",
            "anxiety:['prescribed', 'panic', 'lexapro', 'tend', 'anxious']\n",
            "financial:['financially', 'purchase', 'observant', 'transition', 'transgender']\n",
            "ptsd:['kavanaugh', 'diagnosed', 'disorder', 'intercourse', 'experienced']\n",
            "social:['medium', 'interaction', 'doug', 'shaming', 'worker']\n",
            "stress:['breakdown', 'knot', 'adhd', 'stressed', 'occur']\n",
            "love:['opposite', 'loving', 'platonic', 'loved', 'beautiful']\n"
          ],
          "name": "stdout"
        },
        {
          "output_type": "stream",
          "text": [
            "/usr/local/lib/python3.6/dist-packages/gensim/matutils.py:737: FutureWarning: Conversion of the second argument of issubdtype from `int` to `np.signedinteger` is deprecated. In future, it will be treated as `np.int64 == np.dtype(int).type`.\n",
            "  if np.issubdtype(vec.dtype, np.int):\n"
          ],
          "name": "stderr"
        }
      ]
    },
    {
      "cell_type": "code",
      "metadata": {
        "id": "iAoZYQ9NugQ_",
        "colab_type": "code",
        "colab": {
          "base_uri": "https://localhost:8080/",
          "height": 88
        },
        "outputId": "95d764b0-5b18-46dc-9abb-c1c309e42b8f"
      },
      "source": [
        "# find the similarity of two words\n",
        "print(word2vec.wv.similarity(w1='love', w2='anxiety'))"
      ],
      "execution_count": 57,
      "outputs": [
        {
          "output_type": "stream",
          "text": [
            "0.05372105\n"
          ],
          "name": "stdout"
        },
        {
          "output_type": "stream",
          "text": [
            "/usr/local/lib/python3.6/dist-packages/gensim/matutils.py:737: FutureWarning: Conversion of the second argument of issubdtype from `int` to `np.signedinteger` is deprecated. In future, it will be treated as `np.int64 == np.dtype(int).type`.\n",
            "  if np.issubdtype(vec.dtype, np.int):\n"
          ],
          "name": "stderr"
        }
      ]
    },
    {
      "cell_type": "code",
      "metadata": {
        "id": "OTnR1xH4ug0h",
        "colab_type": "code",
        "colab": {
          "base_uri": "https://localhost:8080/",
          "height": 483
        },
        "outputId": "8bc6766b-a041-43be-8761-78a03a9f08da"
      },
      "source": [
        "all_similar_words = sum([[k] + v for k, v in semantically_similar_words.items()], [])\n",
        "\n",
        "word_vectors = word2vec.wv[all_similar_words]\n",
        "\n",
        "pca = PCA(n_components=2)\n",
        "\n",
        "p_comps = pca.fit_transform(word_vectors)\n",
        "word_names = all_similar_words\n",
        "\n",
        "plt.figure(figsize=(12, 8))\n",
        "# name = ['abuse', 'anxiety', 'financial', 'ptsd', 'social', 'stress', 'love']\n",
        "plt.scatter(p_comps[:, 0], p_comps[:, 1], c='red')\n",
        "\n",
        "for word_names, x, y in zip(word_names, p_comps[:, 0], p_comps[:, 1]):\n",
        "    plt.annotate(word_names, xy=(x+0.06, y+0.03), xytext=(0, 0), textcoords='offset points')"
      ],
      "execution_count": 59,
      "outputs": [
        {
          "output_type": "display_data",
          "data": {
            "image/png": "[encoded data removed]",
            "text/plain": [
              "<Figure size 864x576 with 1 Axes>"
            ]
          },
          "metadata": {
            "tags": []
          }
        }
      ]
    },
    {
      "cell_type": "markdown",
      "metadata": {
        "id": "h16CB28L3UeP",
        "colab_type": "text"
      },
      "source": [
        "#### Average Word Embedding for Each Doc\n",
        "\n",
        "reference: https://gist.github.com/TomLin/30244bcccb7e4f94d191a878a697f698"
      ]
    },
    {
      "cell_type": "code",
      "metadata": {
        "id": "GRkgi004nhba",
        "colab_type": "code",
        "colab": {}
      },
      "source": [
        "class TfidfEmbeddingVectorizer(object):\n",
        "\n",
        "\tdef __init__(self, word_model):\n",
        "\n",
        "\t\tself.word_model = word_model\n",
        "\t\tself.word_idf_weight = None\n",
        "\t\tself.vector_size = word_model.wv.vector_size\n",
        "\n",
        "\tdef fit(self, docs):  # comply with scikit-learn transformer requirement\n",
        "\t\t\"\"\"\n",
        "\t\tFit in a list of docs, which had been preprocessed and tokenized,\n",
        "\t\tsuch as word bi-grammed, stop-words removed, lemmatized, part of speech filtered.\n",
        "\t\tThen build up a tfidf model to compute each word's idf as its weight.\n",
        "\t\tNoted that tf weight is already involved when constructing average word vectors, and thus omitted.\n",
        "\t\t:param\n",
        "\t\t\tpre_processed_docs: list of docs, which are tokenized\n",
        "\t\t:return:\n",
        "\t\t\tself\n",
        "\t\t\"\"\"\n",
        "\n",
        "\t\ttext_docs = []\n",
        "\t\tfor doc in docs:\n",
        "\t\t\ttext_docs.append(\" \".join(doc))\n",
        "\n",
        "\t\ttfidf = TfidfVectorizer()\n",
        "\t\ttfidf.fit(text_docs)  # must be list of text string\n",
        "\n",
        "\t\t# if a word was never seen - it must be at least as infrequent\n",
        "\t\t# as any of the known words - so the default idf is the max of\n",
        "\t\t# known idf's\n",
        "\t\tmax_idf = max(tfidf.idf_)  # used as default value for defaultdict\n",
        "\t\tself.word_idf_weight = defaultdict(lambda: max_idf,\n",
        "\t\t\t\t\t\t   [(word, tfidf.idf_[i]) for word, i in tfidf.vocabulary_.items()])\n",
        "\t\treturn self\n",
        "\n",
        "\n",
        "\tdef transform(self, docs):  # comply with scikit-learn transformer requirement\n",
        "\t\tdoc_word_vector = self.word_average_list(docs)\n",
        "\t\treturn doc_word_vector\n",
        "\n",
        "\n",
        "\tdef word_average(self, sent):\n",
        "\t\t\"\"\"\n",
        "\t\tCompute average word vector for a single doc/sentence.\n",
        "\t\t:param sent: list of sentence tokens\n",
        "\t\t:return:\n",
        "\t\t\tmean: float of averaging word vectors\n",
        "\t\t\"\"\"\n",
        "\n",
        "\t\tmean = []\n",
        "\t\tfor word in sent:\n",
        "\t\t\tif word in self.word_model.wv.vocab:\n",
        "\t\t\t\tmean.append(self.word_model.wv.get_vector(word) * self.word_idf_weight[word])  # idf weighted\n",
        "\n",
        "\t\tif not mean:  # empty words\n",
        "\t\t\t# If a text is empty, return a vector of zeros.\n",
        "\t\t\tlogging.warning(\"cannot compute average owing to no vector for {}\".format(sent))\n",
        "\t\t\treturn np.zeros(self.vector_size)\n",
        "\t\telse:\n",
        "\t\t\tmean = np.array(mean).mean(axis=0)\n",
        "\t\t\treturn mean\n",
        "\n",
        "\n",
        "\tdef word_average_list(self, docs):\n",
        "\t\t\"\"\"\n",
        "\t\tCompute average word vector for multiple docs, where docs had been tokenized.\n",
        "\t\t:param docs: list of sentence in list of separated tokens\n",
        "\t\t:return:\n",
        "\t\t\tarray of average word vector in shape (len(docs),)\n",
        "\t\t\"\"\"\n",
        "\t\treturn np.vstack([self.word_average(sent) for sent in docs])"
      ],
      "execution_count": 0,
      "outputs": []
    },
    {
      "cell_type": "code",
      "metadata": {
        "id": "a3YhL9Tn3f8o",
        "colab_type": "code",
        "colab": {}
      },
      "source": [
        "X = train_text.append(test_text)\n",
        "X = X.reset_index(drop=True)"
      ],
      "execution_count": 0,
      "outputs": []
    },
    {
      "cell_type": "code",
      "metadata": {
        "id": "qgpAGVeFrWGg",
        "colab_type": "code",
        "colab": {}
      },
      "source": [
        "tfidf_vec_tr = TfidfEmbeddingVectorizer(word2vec)\n",
        "\n",
        "tfidf_vec_tr.fit(X)  # fit tfidf model first\n",
        "tfidf_doc_vec = tfidf_vec_tr.transform(X)"
      ],
      "execution_count": 0,
      "outputs": []
    },
    {
      "cell_type": "markdown",
      "metadata": {
        "id": "e2mmkAXDtHeV",
        "colab_type": "text"
      },
      "source": [
        "### Doc2Vec"
      ]
    },
    {
      "cell_type": "code",
      "metadata": {
        "id": "FHEKWh2e3avE",
        "colab_type": "code",
        "colab": {}
      },
      "source": [
        ""
      ],
      "execution_count": 0,
      "outputs": []
    },
    {
      "cell_type": "markdown",
      "metadata": {
        "id": "sWPSsdSeHSNn",
        "colab_type": "text"
      },
      "source": [
        "## Classification"
      ]
    },
    {
      "cell_type": "code",
      "metadata": {
        "id": "BpIiKjrJGo5c",
        "colab_type": "code",
        "colab": {}
      },
      "source": [
        "X_train = tfidf_doc_vec[:len(train)]\n",
        "y_train = train['label']\n",
        "\n",
        "X_test = tfidf_doc_vec[len(train):]\n",
        "y_test = test['label']\n",
        "\n",
        "# X_train, X_test, y_train, y_test = train_test_split(X, y, test_size=0.25, random_state=42)"
      ],
      "execution_count": 0,
      "outputs": []
    },
    {
      "cell_type": "code",
      "metadata": {
        "id": "bWnjwZFqHY5n",
        "colab_type": "code",
        "colab": {}
      },
      "source": [
        "clf_dict = {'log reg': LogisticRegression(random_state=42), \n",
        "            'naive bayes': GaussianNB(), \n",
        "            'linear svc': LinearSVC(random_state=42),\n",
        "            'ada boost': AdaBoostClassifier(n_estimators=100, random_state=42),\n",
        "            'gradient boosting': GradientBoostingClassifier(n_estimators=100, random_state=42),\n",
        "            'CART': DecisionTreeClassifier(random_state=42),\n",
        "            'random forest': RandomForestClassifier(n_estimators=100, random_state=42)}"
      ],
      "execution_count": 0,
      "outputs": []
    },
    {
      "cell_type": "code",
      "metadata": {
        "id": "jpGwBbmPHaEv",
        "colab_type": "code",
        "colab": {
          "base_uri": "https://localhost:8080/",
          "height": 190
        },
        "outputId": "cea7e032-b12d-4710-9c43-8c8bba5199b1"
      },
      "source": [
        "for name, clf in clf_dict.items():\n",
        "    model = clf.fit(X_train, y_train)\n",
        "    y_pred = model.predict(X_test)\n",
        "    print('Accuracy of {}:'.format(name), accuracy_score(y_pred, y_test))"
      ],
      "execution_count": 108,
      "outputs": [
        {
          "output_type": "stream",
          "text": [
            "Accuracy of log reg: 0.7118881118881119\n",
            "Accuracy of naive bayes: 0.6475524475524476\n"
          ],
          "name": "stdout"
        },
        {
          "output_type": "stream",
          "text": [
            "/usr/local/lib/python3.6/dist-packages/sklearn/svm/_base.py:947: ConvergenceWarning: Liblinear failed to converge, increase the number of iterations.\n",
            "  \"the number of iterations.\", ConvergenceWarning)\n"
          ],
          "name": "stderr"
        },
        {
          "output_type": "stream",
          "text": [
            "Accuracy of linear svc: 0.7230769230769231\n",
            "Accuracy of ada boost: 0.6881118881118881\n",
            "Accuracy of gradient boosting: 0.7006993006993008\n",
            "Accuracy of CART: 0.6307692307692307\n",
            "Accuracy of random forest: 0.7118881118881119\n"
          ],
          "name": "stdout"
        }
      ]
    },
    {
      "cell_type": "code",
      "metadata": {
        "id": "JCkuspysHbaU",
        "colab_type": "code",
        "colab": {
          "base_uri": "https://localhost:8080/",
          "height": 34
        },
        "outputId": "9da0263b-6021-45ee-b552-c63e99805026"
      },
      "source": [
        "clf = LogisticRegression(random_state=0).fit(X_train, y_train)\n",
        "y_pred = clf.predict(X_test)\n",
        "accuracy_score(y_test, y_pred)"
      ],
      "execution_count": 90,
      "outputs": [
        {
          "output_type": "execute_result",
          "data": {
            "text/plain": [
              "0.7258741258741259"
            ]
          },
          "metadata": {
            "tags": []
          },
          "execution_count": 90
        }
      ]
    },
    {
      "cell_type": "code",
      "metadata": {
        "id": "z4_weyRdHc47",
        "colab_type": "code",
        "colab": {
          "base_uri": "https://localhost:8080/",
          "height": 228
        },
        "outputId": "d313eca3-136c-458d-ef6e-497a736a68dc"
      },
      "source": [
        "# Confusion Matrix\n",
        "cm = confusion_matrix(y_test, y_pred)\n",
        "\n",
        "df_cm = pd.DataFrame(cm, index = [i for i in \"01\"], columns = [i for i in \"01\"])\n",
        "plt.figure(figsize = (5, 3))\n",
        "sns.heatmap(df_cm, annot=True, cmap='Blues', fmt='g')"
      ],
      "execution_count": 91,
      "outputs": [
        {
          "output_type": "execute_result",
          "data": {
            "text/plain": [
              "<matplotlib.axes._subplots.AxesSubplot at 0x7f8968b3de80>"
            ]
          },
          "metadata": {
            "tags": []
          },
          "execution_count": 91
        },
        {
          "output_type": "display_data",
          "data": {
            "image/png": "[encoded data removed]",
            "text/plain": [
              "<Figure size 360x216 with 2 Axes>"
            ]
          },
          "metadata": {
            "tags": []
          }
        }
      ]
    },
    {
      "cell_type": "code",
      "metadata": {
        "id": "2PLDtF8oHeHb",
        "colab_type": "code",
        "colab": {
          "base_uri": "https://localhost:8080/",
          "height": 68
        },
        "outputId": "60cfbdf1-e590-4801-b19f-212367f72330"
      },
      "source": [
        "print('Precision', precision_score(y_test, y_pred))\n",
        "print('Recall', recall_score(y_test, y_pred))\n",
        "print('F1-Score', f1_score(y_test, y_pred))"
      ],
      "execution_count": 92,
      "outputs": [
        {
          "output_type": "stream",
          "text": [
            "Precision 0.7006960556844548\n",
            "Recall 0.8184281842818428\n",
            "F1-Score 0.755\n"
          ],
          "name": "stdout"
        }
      ]
    },
    {
      "cell_type": "code",
      "metadata": {
        "id": "ye7FYS2mszgh",
        "colab_type": "code",
        "colab": {}
      },
      "source": [
        ""
      ],
      "execution_count": 0,
      "outputs": []
    }
  ]
}