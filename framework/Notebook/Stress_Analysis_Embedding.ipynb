{
  "nbformat": 4,
  "nbformat_minor": 0,
  "metadata": {
    "kernelspec": {
      "name": "python3",
      "display_name": "Python 3"
    },
    "language_info": {
      "codemirror_mode": {
        "name": "ipython",
        "version": 3
      },
      "file_extension": ".py",
      "mimetype": "text/x-python",
      "name": "python",
      "nbconvert_exporter": "python",
      "pygments_lexer": "ipython3",
      "version": "3.7.6"
    },
    "toc": {
      "base_numbering": 1,
      "nav_menu": {},
      "number_sections": true,
      "sideBar": true,
      "skip_h1_title": true,
      "title_cell": "Table of Contents",
      "title_sidebar": "Contents",
      "toc_cell": false,
      "toc_position": {
        "height": "calc(100% - 180px)",
        "left": "10px",
        "top": "150px",
        "width": "242.594px"
      },
      "toc_section_display": true,
      "toc_window_display": true
    },
    "colab": {
      "name": "Stress_Analysis_Embedding.ipynb",
      "provenance": [],
      "collapsed_sections": [],
      "toc_visible": true
    },
    "accelerator": "GPU"
  },
  "cells": [
    {
      "cell_type": "markdown",
      "metadata": {
        "id": "uR86zXHtjnAa",
        "colab_type": "text"
      },
      "source": [
        "# Stress Analysis in Social Media\n",
        "\n",
        "Leverage the newly published and labelled reddit dataset for stress analysis to develop and improve supervised learning methods for identifying stress, both neural and traditional, and analyze the complexity and diversity of the data and characteristics of each category."
      ]
    },
    {
      "cell_type": "code",
      "metadata": {
        "id": "4qts8UB_jt51",
        "colab_type": "code",
        "colab": {
          "base_uri": "https://localhost:8080/",
          "height": 119
        },
        "outputId": "e269c1b3-0a97-4c63-dbe2-b5227188a3cc"
      },
      "source": [
        "! git clone https://github.com/gillian850413/Insight_Stress_Analysis.git"
      ],
      "execution_count": 1,
      "outputs": [
        {
          "output_type": "stream",
          "text": [
            "Cloning into 'Insight_Stress_Analysis'...\n",
            "remote: Enumerating objects: 70, done.\u001b[K\n",
            "remote: Counting objects: 100% (70/70), done.\u001b[K\n",
            "remote: Compressing objects: 100% (52/52), done.\u001b[K\n",
            "remote: Total 70 (delta 15), reused 61 (delta 9), pack-reused 0\u001b[K\n",
            "Unpacking objects: 100% (70/70), done.\n"
          ],
          "name": "stdout"
        }
      ]
    },
    {
      "cell_type": "code",
      "metadata": {
        "id": "OXXy2i8IjnAd",
        "colab_type": "code",
        "colab": {}
      },
      "source": [
        "import os\n",
        "import pandas as pd\n",
        "import numpy as np \n",
        "import matplotlib.pyplot as plt\n",
        "import matplotlib.colors as mcolors\n",
        "import seaborn as sns\n",
        "import re\n",
        "import string\n",
        "from collections import defaultdict\n",
        "\n",
        "import nltk\n",
        "from nltk.corpus import stopwords\n",
        "from nltk.corpus import RegexpTokenizer\n",
        "from nltk.stem import WordNetLemmatizer\n",
        "from nltk.stem.porter import PorterStemmer\n",
        "\n",
        "from sklearn.preprocessing import StandardScaler\n",
        "from sklearn.feature_extraction.text import CountVectorizer\n",
        "from sklearn.feature_extraction.text import TfidfVectorizer\n",
        "from sklearn.decomposition import PCA\n",
        "from sklearn.linear_model import LogisticRegression\n",
        "from sklearn.svm import LinearSVC\n",
        "from sklearn.linear_model import SGDClassifier\n",
        "from sklearn.naive_bayes import GaussianNB\n",
        "from sklearn.ensemble import RandomForestClassifier, AdaBoostClassifier, GradientBoostingClassifier\n",
        "from sklearn.neighbors import KNeighborsClassifier\n",
        "from sklearn.tree import DecisionTreeClassifier\n",
        "from sklearn.metrics import accuracy_score, confusion_matrix, precision_score, recall_score, f1_score\n",
        "from sklearn.metrics import precision_recall_fscore_support\n",
        "from sklearn.model_selection import train_test_split\n",
        "from sklearn.manifold import TSNE\n",
        "\n",
        "from wordcloud import WordCloud\n",
        "\n",
        "from gensim.models import Word2Vec\n",
        "from gensim.test.utils import common_texts\n",
        "from gensim.models.doc2vec import Doc2Vec, TaggedDocument"
      ],
      "execution_count": 0,
      "outputs": []
    },
    {
      "cell_type": "code",
      "metadata": {
        "id": "Jtp8orZzkHoA",
        "colab_type": "code",
        "colab": {
          "base_uri": "https://localhost:8080/",
          "height": 102
        },
        "outputId": "958a9fad-b948-485a-f748-79736edf4c53"
      },
      "source": [
        "nltk.download('stopwords')\n",
        "nltk.download('wordnet')"
      ],
      "execution_count": 3,
      "outputs": [
        {
          "output_type": "stream",
          "text": [
            "[nltk_data] Downloading package stopwords to /root/nltk_data...\n",
            "[nltk_data]   Unzipping corpora/stopwords.zip.\n",
            "[nltk_data] Downloading package wordnet to /root/nltk_data...\n",
            "[nltk_data]   Unzipping corpora/wordnet.zip.\n"
          ],
          "name": "stdout"
        },
        {
          "output_type": "execute_result",
          "data": {
            "text/plain": [
              "True"
            ]
          },
          "metadata": {
            "tags": []
          },
          "execution_count": 3
        }
      ]
    },
    {
      "cell_type": "code",
      "metadata": {
        "id": "ptE1mcjfawSe",
        "colab_type": "code",
        "colab": {}
      },
      "source": [
        "import warnings\n",
        "warnings.filterwarnings(\"ignore\")"
      ],
      "execution_count": 0,
      "outputs": []
    },
    {
      "cell_type": "markdown",
      "metadata": {
        "id": "dHFAsIQVjnAk",
        "colab_type": "text"
      },
      "source": [
        "## Data Preprocessing\n",
        "Possible approach of data preprocessing and feature engineeing \n",
        "- Tokenization, Removal of punctuations.\n",
        "- Removal of commonly used words (stopwords).\n",
        "- Lemmatization or Stemming (Normalization)"
      ]
    },
    {
      "cell_type": "code",
      "metadata": {
        "id": "uIxddMwijnAl",
        "colab_type": "code",
        "colab": {}
      },
      "source": [
        "path = '/content/Insight_Stress_Analysis/data/' \n",
        "train = pd.read_csv(path + 'dreaddit-train.csv', encoding = \"ISO-8859-1\")\n",
        "test = pd.read_csv(path + 'dreaddit-test.csv', encoding = \"ISO-8859-1\")"
      ],
      "execution_count": 0,
      "outputs": []
    },
    {
      "cell_type": "code",
      "metadata": {
        "id": "J150PjlnjnAo",
        "colab_type": "code",
        "colab": {}
      },
      "source": [
        "domain = {'domesticviolence':'abuse',\n",
        "          'survivorsofabuse':'abuse',\n",
        "          'anxiety': 'anxiety',\n",
        "          'stress': 'anxiety', \n",
        "          'almosthomeless': 'financial',\n",
        "          'assistance': 'financial',\n",
        "          'food_pantry': 'financial', \n",
        "          'homeless': 'financial',\n",
        "          'ptsd': 'ptsd',\n",
        "          'relationships': 'social'}\n",
        "\n",
        "train['domain'] = train['subreddit'].map(domain)\n",
        "test['domain'] = test['subreddit'].map(domain)"
      ],
      "execution_count": 0,
      "outputs": []
    },
    {
      "cell_type": "markdown",
      "metadata": {
        "id": "7To4kIuTjnAr",
        "colab_type": "text"
      },
      "source": [
        "### Tokenization & Remove punctuations"
      ]
    },
    {
      "cell_type": "code",
      "metadata": {
        "id": "5dLaURRQjnAt",
        "colab_type": "code",
        "colab": {}
      },
      "source": [
        "# tokenization: breaks the string into list of words\n",
        "# tokenizer = RegexpTokenizer(r'\\w+')\n",
        "tokenizer = RegexpTokenizer(r'[a-zA-Z]{2,}') # remove number and words that length = 1\n",
        "train['processed_text'] = train['text'].apply(lambda x: tokenizer.tokenize(x.lower()))\n",
        "test['processed_text'] = test['text'].apply(lambda x: tokenizer.tokenize(x.lower()))"
      ],
      "execution_count": 0,
      "outputs": []
    },
    {
      "cell_type": "markdown",
      "metadata": {
        "id": "UnLgGQv0jnA0",
        "colab_type": "text"
      },
      "source": [
        "### Remove Stopwords"
      ]
    },
    {
      "cell_type": "code",
      "metadata": {
        "id": "qO243OwYjnA0",
        "colab_type": "code",
        "colab": {}
      },
      "source": [
        "def remove_stopwords(text):\n",
        "    words = [w for w in text if w not in stopwords.words('english')]\n",
        "    return words"
      ],
      "execution_count": 0,
      "outputs": []
    },
    {
      "cell_type": "code",
      "metadata": {
        "id": "Icd0M75LjnA3",
        "colab_type": "code",
        "colab": {}
      },
      "source": [
        "train['processed_text'] = train['processed_text'].apply(lambda x: remove_stopwords(x))\n",
        "test['processed_text'] = test['processed_text'].apply(lambda x: remove_stopwords(x))"
      ],
      "execution_count": 0,
      "outputs": []
    },
    {
      "cell_type": "markdown",
      "metadata": {
        "id": "az2nhsKxjnA6",
        "colab_type": "text"
      },
      "source": [
        "### Stemming & Lemmatization\n",
        "Text normalization"
      ]
    },
    {
      "cell_type": "code",
      "metadata": {
        "id": "xk5P-_x9jnA7",
        "colab_type": "code",
        "colab": {
          "base_uri": "https://localhost:8080/",
          "height": 34
        },
        "outputId": "9aa0e2e2-2fa1-46de-b82d-a10b97dec4cf"
      },
      "source": [
        "%%\n",
        "# stemming\n",
        "stemmer = PorterStemmer()\n",
        "\n",
        "def word_stemmer(text):\n",
        "    stem_text = [stemmer.stem(i) for i in text]\n",
        "    return stem_text\n",
        "\n",
        "train['processed_text'] = train['processed_text'].apply(lambda x: word_stemmer(x))\n",
        "test['processed_text'] = test['processed_text'].apply(lambda x: word_stemmer(x))"
      ],
      "execution_count": 13,
      "outputs": [
        {
          "output_type": "stream",
          "text": [
            "UsageError: Cell magic `%%` not found.\n"
          ],
          "name": "stderr"
        }
      ]
    },
    {
      "cell_type": "code",
      "metadata": {
        "id": "yNfVav2rjnA-",
        "colab_type": "code",
        "colab": {}
      },
      "source": [
        "# lemmatization\n",
        "lemmatizer = WordNetLemmatizer()\n",
        "\n",
        "def word_lemmatizer(text):\n",
        "    lem_text = [lemmatizer.lemmatize(i) for i in text]\n",
        "    return lem_text\n",
        "\n",
        "train['processed_text'] = train['processed_text'].apply(lambda x: word_lemmatizer(x))\n",
        "test['processed_text'] = test['processed_text'].apply(lambda x: word_lemmatizer(x))"
      ],
      "execution_count": 0,
      "outputs": []
    },
    {
      "cell_type": "markdown",
      "metadata": {
        "id": "gn6f-4DljnBB",
        "colab_type": "text"
      },
      "source": [
        "## Feature Extraction"
      ]
    },
    {
      "cell_type": "markdown",
      "metadata": {
        "id": "Z0Pc5HJ-KX7q",
        "colab_type": "text"
      },
      "source": [
        "### Word2Vec + TD-IDF\n",
        "TF-IDF Weighted Averaging on Word Embedding\n",
        "\n",
        "reference: https://gist.github.com/TomLin/30244bcccb7e4f94d191a878a697f698"
      ]
    },
    {
      "cell_type": "code",
      "metadata": {
        "id": "UsXxf1abhBBj",
        "colab_type": "code",
        "colab": {}
      },
      "source": [
        "word2vec = Word2Vec(train['processed_text'],\n",
        "                size=300,\n",
        "                window=10,\n",
        "                min_count=2,\n",
        "                workers=10,\n",
        "                iter=100)"
      ],
      "execution_count": 0,
      "outputs": []
    },
    {
      "cell_type": "code",
      "metadata": {
        "id": "ysAaq3dIudlv",
        "colab_type": "code",
        "colab": {
          "base_uri": "https://localhost:8080/",
          "height": 153
        },
        "outputId": "1f1f006d-1e93-4af6-9e88-6b47c942dc33"
      },
      "source": [
        "# find the similar words\n",
        "semantically_similar_words = {words: [item[0] for item in word2vec.wv.most_similar([words], topn=5)]\n",
        "                  for words in ['abuse', 'anxiety', 'financial', 'ptsd', 'social', 'stress', 'love', 'friendship']}\n",
        "\n",
        "for k,v in semantically_similar_words.items():\n",
        "    print(k+\":\"+str(v))"
      ],
      "execution_count": 17,
      "outputs": [
        {
          "output_type": "stream",
          "text": [
            "abuse:['sexual', 'physical', 'choke', 'assault', 'subsequent']\n",
            "anxiety:['prescribed', 'lexapro', 'tend', 'klonopin', 'trivial']\n",
            "financial:['purchase', 'observant', 'siddur', 'judgement', 'onset']\n",
            "ptsd:['disorder', 'diagnosed', 'bipolar', 'triggered', 'traumatized']\n",
            "social:['medium', 'interaction', 'shy', 'worker', 'conditioning']\n",
            "stress:['knot', 'adhd', 'cognition', 'compare', 'stressed']\n",
            "love:['loving', 'opposite', 'loved', 'beautiful', 'sacrifice']\n",
            "friendship:['jessie', 'previous', 'ruining', 'flirting', 'lisa']\n"
          ],
          "name": "stdout"
        }
      ]
    },
    {
      "cell_type": "code",
      "metadata": {
        "id": "iAoZYQ9NugQ_",
        "colab_type": "code",
        "colab": {
          "base_uri": "https://localhost:8080/",
          "height": 34
        },
        "outputId": "8d7aea48-08d0-402e-e831-151eb50a5cbb"
      },
      "source": [
        "# find the similarity of two words\n",
        "print(word2vec.wv.similarity(w1='love', w2='anxiety'))"
      ],
      "execution_count": 18,
      "outputs": [
        {
          "output_type": "stream",
          "text": [
            "0.05558092\n"
          ],
          "name": "stdout"
        }
      ]
    },
    {
      "cell_type": "code",
      "metadata": {
        "id": "OTnR1xH4ug0h",
        "colab_type": "code",
        "colab": {
          "base_uri": "https://localhost:8080/",
          "height": 483
        },
        "outputId": "98dece03-0b1c-4abd-8047-bcacaa700614"
      },
      "source": [
        "all_similar_words = sum([[k] + v for k, v in semantically_similar_words.items()], [])\n",
        "\n",
        "word_vectors = word2vec.wv[all_similar_words]\n",
        "\n",
        "pca = PCA(n_components=2)\n",
        "\n",
        "p_comps = pca.fit_transform(word_vectors)\n",
        "word_names = all_similar_words\n",
        "\n",
        "plt.figure(figsize=(12, 8))\n",
        "# name = ['abuse', 'anxiety', 'financial', 'ptsd', 'social', 'stress', 'love']\n",
        "plt.scatter(p_comps[:, 0], p_comps[:, 1], c='red')\n",
        "\n",
        "for word_names, x, y in zip(word_names, p_comps[:, 0], p_comps[:, 1]):\n",
        "    plt.annotate(word_names, xy=(x+0.06, y+0.03), xytext=(0, 0), textcoords='offset points')"
      ],
      "execution_count": 20,
      "outputs": [
        {
          "output_type": "display_data",
          "data": {
            "image/png": "[encoded data removed]",
            "text/plain": [
              "<Figure size 864x576 with 1 Axes>"
            ]
          },
          "metadata": {
            "tags": []
          }
        }
      ]
    },
    {
      "cell_type": "code",
      "metadata": {
        "id": "GRkgi004nhba",
        "colab_type": "code",
        "colab": {}
      },
      "source": [
        "class TfidfEmbeddingVectorizer(object):\n",
        "\n",
        "\tdef __init__(self, word_model):\n",
        "\n",
        "\t\tself.word_model = word_model\n",
        "\t\tself.word_idf_weight = None\n",
        "\t\tself.vector_size = word_model.wv.vector_size\n",
        "\n",
        "\tdef fit(self, docs):  # comply with scikit-learn transformer requirement\n",
        "\t\t\"\"\"\n",
        "\t\tFit in a list of docs, which had been preprocessed and tokenized,\n",
        "\t\tsuch as word bi-grammed, stop-words removed, lemmatized, part of speech filtered.\n",
        "\t\tThen build up a tfidf model to compute each word's idf as its weight.\n",
        "\t\tNoted that tf weight is already involved when constructing average word vectors, and thus omitted.\n",
        "\t\t:param\n",
        "\t\t\tpre_processed_docs: list of docs, which are tokenized\n",
        "\t\t:return:\n",
        "\t\t\tself\n",
        "\t\t\"\"\"\n",
        "\n",
        "\t\ttext_docs = []\n",
        "\t\tfor doc in docs:\n",
        "\t\t\ttext_docs.append(\" \".join(doc))\n",
        "\n",
        "\t\ttfidf = TfidfVectorizer() # default 1-gram \n",
        "\t\ttfidf.fit(text_docs)  # must be list of text string\n",
        "\n",
        "\t\t# if a word was never seen - it must be at least as infrequent\n",
        "\t\t# as any of the known words - so the default idf is the max of\n",
        "\t\t# known idf's\n",
        "\t\tmax_idf = max(tfidf.idf_)  # used as default value for defaultdict\n",
        "\t\tself.word_idf_weight = defaultdict(lambda: max_idf,\n",
        "\t\t\t\t\t\t   [(word, tfidf.idf_[i]) for word, i in tfidf.vocabulary_.items()])\n",
        "\t\treturn self\n",
        "\n",
        "\n",
        "\tdef transform(self, docs):  # comply with scikit-learn transformer requirement\n",
        "\t\tdoc_word_vector = self.word_average_list(docs)\n",
        "\t\treturn doc_word_vector\n",
        "\n",
        "\n",
        "\tdef word_average(self, sent):\n",
        "\t\t\"\"\"\n",
        "\t\tCompute average word vector for a single doc/sentence.\n",
        "\t\t:param sent: list of sentence tokens\n",
        "\t\t:return:\n",
        "\t\t\tmean: float of averaging word vectors\n",
        "\t\t\"\"\"\n",
        "\n",
        "\t\tmean = []\n",
        "\t\tfor word in sent:\n",
        "\t\t\tif word in self.word_model.wv.vocab:\n",
        "\t\t\t\tmean.append(self.word_model.wv.get_vector(word) * self.word_idf_weight[word])  # idf weighted\n",
        "\n",
        "\t\tif not mean:  # empty words\n",
        "\t\t\t# If a text is empty, return a vector of zeros.\n",
        "\t\t\tlogging.warning(\"cannot compute average owing to no vector for {}\".format(sent))\n",
        "\t\t\treturn np.zeros(self.vector_size)\n",
        "\t\telse:\n",
        "\t\t\tmean = np.array(mean).mean(axis=0)\n",
        "\t\t\treturn mean\n",
        "\n",
        "\n",
        "\tdef word_average_list(self, docs):\n",
        "\t\t\"\"\"\n",
        "\t\tCompute average word vector for multiple docs, where docs had been tokenized.\n",
        "\t\t:param docs: list of sentence in list of separated tokens\n",
        "\t\t:return:\n",
        "\t\t\tarray of average word vector in shape (len(docs),)\n",
        "\t\t\"\"\"\n",
        "\t\treturn np.vstack([self.word_average(sent) for sent in docs])"
      ],
      "execution_count": 0,
      "outputs": []
    },
    {
      "cell_type": "code",
      "metadata": {
        "id": "a3YhL9Tn3f8o",
        "colab_type": "code",
        "colab": {}
      },
      "source": [
        "train_token = train['processed_text']\n",
        "test_token = test['processed_text']\n",
        "\n",
        "X = train_token.append(test_token)\n",
        "X = X.reset_index(drop=True)"
      ],
      "execution_count": 0,
      "outputs": []
    },
    {
      "cell_type": "code",
      "metadata": {
        "id": "qgpAGVeFrWGg",
        "colab_type": "code",
        "colab": {}
      },
      "source": [
        "tfidf_vec_tr = TfidfEmbeddingVectorizer(word2vec)\n",
        "\n",
        "tfidf_vec_tr.fit(X)  # fit tfidf model first\n",
        "tfidf_doc_vec = tfidf_vec_tr.transform(X)"
      ],
      "execution_count": 0,
      "outputs": []
    },
    {
      "cell_type": "markdown",
      "metadata": {
        "id": "e2mmkAXDtHeV",
        "colab_type": "text"
      },
      "source": [
        "### Doc2Vec"
      ]
    },
    {
      "cell_type": "code",
      "metadata": {
        "id": "ZMi2BKyyevcx",
        "colab_type": "code",
        "colab": {}
      },
      "source": [
        "doc_words = train['processed_text'].append(test['processed_text'])\n",
        "doc_words = doc_words.reset_index(drop = True)\n",
        "\n",
        "doc_ids = doc_words.index\n",
        "tagdocs = [TaggedDocument(words=words, tags=[tag]) for words, tag in zip(doc_words, doc_ids)]"
      ],
      "execution_count": 0,
      "outputs": []
    },
    {
      "cell_type": "code",
      "metadata": {
        "id": "jeG73aLOaZek",
        "colab_type": "code",
        "colab": {}
      },
      "source": [
        "class DocModel(object):\n",
        "\n",
        "\tdef __init__(self, docs, **kwargs):\n",
        "\t\t\"\"\"\n",
        "\t\t:param docs: list of TaggedDocument\n",
        "\t\t:param kwargs: dictionary of (key,value) for Doc2Vec arguments\n",
        "\t\t\"\"\"\n",
        "\t\tself.model = Doc2Vec(**kwargs)\n",
        "\t\tself.docs = docs\n",
        "\t\tself.model.build_vocab([x for x in self.docs])\n",
        "\n",
        "\tdef custom_train(self, fixed_lr=False, fixed_lr_epochs=None):\n",
        "\t\t\"\"\"\n",
        "\t\tTrain Doc2Vec with two options, without fixed learning rate(recommended) or with fixed learning rate.\n",
        "\t\tFixed learning rate also includes implementation of shuffling training dataset.\n",
        "\t\t:param fixed_lr: boolean\n",
        "\t\t:param fixed_lr_epochs: num of epochs for fixed lr training\n",
        "\t\t\"\"\"\n",
        "\t\tif not fixed_lr:\n",
        "\t\t\tself.model.train([x for x in self.docs],\n",
        "\t\t\t\t\t total_examples=len(self.docs),\n",
        "\t\t\t\t\t epochs=self.model.epochs)\n",
        "\t\telse: # change the learning rate during the training\n",
        "\t\t\tfor _ in range(fixed_lr_epochs):\n",
        "\t\t\t\tself.model.train(utils.shuffle([x for x in self.docs]),\n",
        "\t\t\t\t\t\t total_examples=len(self.docs),\n",
        "\t\t\t\t\t\t epochs=1)\n",
        "\t\t\t\tself.model.alpha -= 0.002\n",
        "\t\t\t\tself.model.min_alpha = self.model.alpha  # fixed learning rate\n",
        "\n",
        "\n",
        "\tdef test_orig_doc_infer(self):\n",
        "\t\t\"\"\"\n",
        "\t\tUse the original doc as input for model's vector inference,\n",
        "\t\tand then compare using most_similar()\n",
        "\t\tto see if model finds the original doc id be the most similar doc to the input.\n",
        "\t\t\"\"\"\n",
        "\t\tidx = np.random.randint(len(self.docs))\n",
        "\t\tprint('idx: ' + str(idx))\n",
        "\t\tdoc = [doc for doc in self.docs if doc.tags[0] == idx]\n",
        "\t\tinferred_vec = self.model.infer_vector(doc[0].words)\n",
        "\t\tprint(self.model.docvecs.most_similar([inferred_vec]))  # wrap vec in a list"
      ],
      "execution_count": 0,
      "outputs": []
    },
    {
      "cell_type": "code",
      "metadata": {
        "id": "aQVOnkwFbVgi",
        "colab_type": "code",
        "colab": {}
      },
      "source": [
        "# Configure keyed arguments for Doc2Vec model.\n",
        "dm_args = {\n",
        "    'dm': 1,\n",
        "    'dm_mean': 1,\n",
        "    'vector_size': 300,\n",
        "    'window': 5,\n",
        "    'negative': 5,\n",
        "    'hs': 0,\n",
        "    'min_count': 2,\n",
        "    'sample': 0,\n",
        "    # 'workers': workers,\n",
        "    'alpha': 0.025,\n",
        "    'min_alpha': 0.025,\n",
        "    'epochs': 100,\n",
        "    'comment': 'alpha=0.025'\n",
        "}\n",
        "# Instantiate a pv-dm model.\n",
        "dm = DocModel(docs=tagdocs, **dm_args)\n",
        "dm.custom_train()"
      ],
      "execution_count": 0,
      "outputs": []
    },
    {
      "cell_type": "code",
      "metadata": {
        "id": "28r2RfIKjGqh",
        "colab_type": "code",
        "colab": {
          "base_uri": "https://localhost:8080/",
          "height": 34
        },
        "outputId": "5bc1abc9-7d9e-46d9-c16f-fa2480f4844d"
      },
      "source": [
        "dm_doc_vec_ls = []\n",
        "for i in range(len(dm.model.docvecs)):\n",
        "    dm_doc_vec_ls.append(dm.model.docvecs[i])\n",
        "\n",
        "dm_doc_vec = pd.DataFrame(dm_doc_vec_ls)\n",
        "dm_doc_vec.shape\n",
        "\n",
        "# print('Save dm doc2vec as csv file...')\n",
        "# dir_path = os.getcwd()\n",
        "# dm_doc_vec.to_csv(os.path.join(dir_path, 'dm_doc_vec.csv'), index=False, header=False)"
      ],
      "execution_count": 34,
      "outputs": [
        {
          "output_type": "execute_result",
          "data": {
            "text/plain": [
              "(3553, 300)"
            ]
          },
          "metadata": {
            "tags": []
          },
          "execution_count": 34
        }
      ]
    },
    {
      "cell_type": "markdown",
      "metadata": {
        "id": "sWPSsdSeHSNn",
        "colab_type": "text"
      },
      "source": [
        "## Classification"
      ]
    },
    {
      "cell_type": "markdown",
      "metadata": {
        "id": "1TUI70jIjw9i",
        "colab_type": "text"
      },
      "source": [
        "### Word Embedding + TF-IDF"
      ]
    },
    {
      "cell_type": "code",
      "metadata": {
        "id": "XbbFMfdLZAs0",
        "colab_type": "code",
        "colab": {}
      },
      "source": [
        "scaler = StandardScaler()\n",
        "tfidf_doc_vec_scaled = scaler.fit_transform(tfidf_doc_vec)"
      ],
      "execution_count": 0,
      "outputs": []
    },
    {
      "cell_type": "code",
      "metadata": {
        "id": "BpIiKjrJGo5c",
        "colab_type": "code",
        "colab": {}
      },
      "source": [
        "X_train = tfidf_doc_vec[:len(train)]\n",
        "y_train = train['label']\n",
        "\n",
        "X_test = tfidf_doc_vec[len(train):]\n",
        "y_test = test['label']\n",
        "\n",
        "# X_train, X_test, y_train, y_test = train_test_split(X, y, test_size=0.25, random_state=42)"
      ],
      "execution_count": 0,
      "outputs": []
    },
    {
      "cell_type": "code",
      "metadata": {
        "id": "bWnjwZFqHY5n",
        "colab_type": "code",
        "colab": {}
      },
      "source": [
        "clf_dict = {'log reg': LogisticRegression(random_state=42), \n",
        "            'naive bayes': GaussianNB(), \n",
        "            'linear svc': LinearSVC(random_state=42),\n",
        "            'sgd classifier': SGDClassifier(random_state=42),\n",
        "            'ada boost': AdaBoostClassifier(n_estimators=100, random_state=42),\n",
        "            'gradient boosting': GradientBoostingClassifier(n_estimators=100, random_state=42),\n",
        "            'CART': DecisionTreeClassifier(random_state=42),\n",
        "            'random forest': RandomForestClassifier(n_estimators=100, random_state=42)}"
      ],
      "execution_count": 0,
      "outputs": []
    },
    {
      "cell_type": "code",
      "metadata": {
        "id": "jpGwBbmPHaEv",
        "colab_type": "code",
        "colab": {
          "base_uri": "https://localhost:8080/",
          "height": 153
        },
        "outputId": "76ff8eb8-b4cd-4469-e947-dec7e2144bb8"
      },
      "source": [
        "for name, clf in clf_dict.items():\n",
        "    model = clf.fit(X_train, y_train)\n",
        "    y_pred = model.predict(X_test)\n",
        "    print('Accuracy of {}:'.format(name), accuracy_score(y_pred, y_test))"
      ],
      "execution_count": 55,
      "outputs": [
        {
          "output_type": "stream",
          "text": [
            "Accuracy of log reg: 0.7230769230769231\n",
            "Accuracy of naive bayes: 0.6517482517482518\n",
            "Accuracy of linear svc: 0.7048951048951049\n",
            "Accuracy of sgd classifier: 0.7006993006993008\n",
            "Accuracy of ada boost: 0.7118881118881119\n",
            "Accuracy of gradient boosting: 0.7132867132867133\n",
            "Accuracy of CART: 0.6265734265734266\n",
            "Accuracy of random forest: 0.7244755244755244\n"
          ],
          "name": "stdout"
        }
      ]
    },
    {
      "cell_type": "code",
      "metadata": {
        "id": "JCkuspysHbaU",
        "colab_type": "code",
        "colab": {
          "base_uri": "https://localhost:8080/",
          "height": 34
        },
        "outputId": "1579757d-5ae2-415c-e6a6-9fc891b86805"
      },
      "source": [
        "clf = RandomForestClassifier(random_state=0).fit(X_train, y_train)\n",
        "y_pred = clf.predict(X_test)\n",
        "accuracy_score(y_test, y_pred)"
      ],
      "execution_count": 56,
      "outputs": [
        {
          "output_type": "execute_result",
          "data": {
            "text/plain": [
              "0.7342657342657343"
            ]
          },
          "metadata": {
            "tags": []
          },
          "execution_count": 56
        }
      ]
    },
    {
      "cell_type": "code",
      "metadata": {
        "id": "z4_weyRdHc47",
        "colab_type": "code",
        "colab": {
          "base_uri": "https://localhost:8080/",
          "height": 228
        },
        "outputId": "9f6fcb18-db1a-4842-bf79-a5270e39fd25"
      },
      "source": [
        "# Confusion Matrix\n",
        "cm = confusion_matrix(y_test, y_pred)\n",
        "\n",
        "df_cm = pd.DataFrame(cm, index = [i for i in \"01\"], columns = [i for i in \"01\"])\n",
        "plt.figure(figsize = (5, 3))\n",
        "sns.heatmap(df_cm, annot=True, cmap='Blues', fmt='g')"
      ],
      "execution_count": 57,
      "outputs": [
        {
          "output_type": "execute_result",
          "data": {
            "text/plain": [
              "<matplotlib.axes._subplots.AxesSubplot at 0x7f61622cd588>"
            ]
          },
          "metadata": {
            "tags": []
          },
          "execution_count": 57
        },
        {
          "output_type": "display_data",
          "data": {
            "image/png": "[encoded data removed]",
            "text/plain": [
              "<Figure size 360x216 with 2 Axes>"
            ]
          },
          "metadata": {
            "tags": []
          }
        }
      ]
    },
    {
      "cell_type": "code",
      "metadata": {
        "id": "2PLDtF8oHeHb",
        "colab_type": "code",
        "colab": {
          "base_uri": "https://localhost:8080/",
          "height": 68
        },
        "outputId": "8855c448-d450-4048-86d4-11619709bfb3"
      },
      "source": [
        "print('Precision', precision_score(y_test, y_pred))\n",
        "print('Recall', recall_score(y_test, y_pred))\n",
        "print('F1-Score', f1_score(y_test, y_pred))"
      ],
      "execution_count": 58,
      "outputs": [
        {
          "output_type": "stream",
          "text": [
            "Precision 0.6993318485523385\n",
            "Recall 0.8509485094850948\n",
            "F1-Score 0.767726161369193\n"
          ],
          "name": "stdout"
        }
      ]
    },
    {
      "cell_type": "code",
      "metadata": {
        "id": "YTGb82yiaPys",
        "colab_type": "code",
        "colab": {}
      },
      "source": [
        ""
      ],
      "execution_count": 0,
      "outputs": []
    },
    {
      "cell_type": "markdown",
      "metadata": {
        "id": "624Dvmitj2UD",
        "colab_type": "text"
      },
      "source": [
        "### Doc2Vec"
      ]
    },
    {
      "cell_type": "code",
      "metadata": {
        "id": "Flx8-9U7j3j2",
        "colab_type": "code",
        "colab": {
          "base_uri": "https://localhost:8080/",
          "height": 238
        },
        "outputId": "69ec520f-808f-40c5-d291-a9840d098b47"
      },
      "source": [
        "dm_doc_vec_scaled = scaler.fit_transform(dm_doc_vec)\n",
        "dm_doc_vec_scaled"
      ],
      "execution_count": 35,
      "outputs": [
        {
          "output_type": "execute_result",
          "data": {
            "text/plain": [
              "array([[ 0.25166632,  1.39978952, -1.80149888, ...,  1.25271758,\n",
              "         0.03033772, -0.04450209],\n",
              "       [ 0.69583949,  0.9419139 , -0.87227576, ...,  0.4095719 ,\n",
              "         0.67643715, -1.06351117],\n",
              "       [-0.35153026,  1.98661768, -1.08856935, ..., -1.16977854,\n",
              "         1.66935702,  3.12927377],\n",
              "       ...,\n",
              "       [ 0.211564  ,  0.36594532, -0.54327968, ...,  0.0627358 ,\n",
              "         0.3068755 , -1.21699336],\n",
              "       [-0.4065652 ,  0.33511147,  0.06995864, ..., -0.4445879 ,\n",
              "        -1.14617285,  1.02040325],\n",
              "       [-0.14132791,  0.56074162,  0.91158984, ...,  1.87715848,\n",
              "        -0.84111132, -0.62319487]])"
            ]
          },
          "metadata": {
            "tags": []
          },
          "execution_count": 35
        }
      ]
    },
    {
      "cell_type": "code",
      "metadata": {
        "id": "yIfHcZuvj5vW",
        "colab_type": "code",
        "colab": {}
      },
      "source": [
        "X_train_doc = dm_doc_vec_scaled[:len(train)]\n",
        "y_train_doc = train['label']\n",
        "\n",
        "X_test_doc = dm_doc_vec_scaled[len(train):] #dm_doc_vec_scaled\n",
        "y_test_doc = test['label']\n",
        "\n",
        "# X = dm_doc_vec_scaled\n",
        "# y = train['label']\n",
        "# X_train, X_test, y_train, y_test = train_test_split(X, y, test_size=0.25, random_state=42)"
      ],
      "execution_count": 0,
      "outputs": []
    },
    {
      "cell_type": "code",
      "metadata": {
        "id": "ZpeVnsXck30L",
        "colab_type": "code",
        "colab": {
          "base_uri": "https://localhost:8080/",
          "height": 153
        },
        "outputId": "e113043d-2e52-4138-8768-88a884722120"
      },
      "source": [
        "for name, clf in clf_dict.items():\n",
        "    model = clf.fit(X_train_doc, y_train_doc)\n",
        "    y_pred_doc = model.predict(X_test_doc)\n",
        "    print('Accuracy of {}:'.format(name), accuracy_score(y_pred_doc, y_test_doc))"
      ],
      "execution_count": 37,
      "outputs": [
        {
          "output_type": "stream",
          "text": [
            "Accuracy of log reg: 0.73006993006993\n",
            "Accuracy of naive bayes: 0.634965034965035\n",
            "Accuracy of linear svc: 0.7314685314685314\n",
            "Accuracy of sgd classifier: 0.6755244755244755\n",
            "Accuracy of ada boost: 0.6741258741258741\n",
            "Accuracy of gradient boosting: 0.6951048951048951\n",
            "Accuracy of CART: 0.6\n",
            "Accuracy of random forest: 0.6713286713286714\n"
          ],
          "name": "stdout"
        }
      ]
    },
    {
      "cell_type": "code",
      "metadata": {
        "id": "AvBMBpWBlU0J",
        "colab_type": "code",
        "colab": {
          "base_uri": "https://localhost:8080/",
          "height": 34
        },
        "outputId": "678ecd86-cc28-4885-d531-a6e66fb2d972"
      },
      "source": [
        "clf = LogisticRegression(random_state=0).fit(X_train_doc, y_train_doc)\n",
        "y_pred_doc = clf.predict(X_test_doc)\n",
        "accuracy_score(y_test_doc, y_pred_doc)"
      ],
      "execution_count": 38,
      "outputs": [
        {
          "output_type": "execute_result",
          "data": {
            "text/plain": [
              "0.73006993006993"
            ]
          },
          "metadata": {
            "tags": []
          },
          "execution_count": 38
        }
      ]
    },
    {
      "cell_type": "code",
      "metadata": {
        "id": "lyrLvvt4oLh-",
        "colab_type": "code",
        "colab": {
          "base_uri": "https://localhost:8080/",
          "height": 230
        },
        "outputId": "5899e5ce-4acb-431d-9878-c28be9909c53"
      },
      "source": [
        "# Confusion Matrix\n",
        "cm = confusion_matrix(y_test_doc, y_pred_doc)\n",
        "\n",
        "df_cm = pd.DataFrame(cm, index = [i for i in \"01\"], columns = [i for i in \"01\"])\n",
        "plt.figure(figsize = (5, 3))\n",
        "sns.heatmap(df_cm, annot=True, cmap='Blues', fmt='g')"
      ],
      "execution_count": 39,
      "outputs": [
        {
          "output_type": "execute_result",
          "data": {
            "text/plain": [
              "<matplotlib.axes._subplots.AxesSubplot at 0x7f61621dfef0>"
            ]
          },
          "metadata": {
            "tags": []
          },
          "execution_count": 39
        },
        {
          "output_type": "display_data",
          "data": {
            "image/png": "[encoded data removed]",
            "text/plain": [
              "<Figure size 360x216 with 2 Axes>"
            ]
          },
          "metadata": {
            "tags": []
          }
        }
      ]
    },
    {
      "cell_type": "code",
      "metadata": {
        "id": "E0jYV--ZJn11",
        "colab_type": "code",
        "colab": {
          "base_uri": "https://localhost:8080/",
          "height": 68
        },
        "outputId": "68c8435a-6b3c-42db-aaa3-490feb4573e0"
      },
      "source": [
        "print('Precision', precision_score(y_test_doc, y_pred_doc))\n",
        "print('Recall', recall_score(y_test_doc, y_pred_doc))\n",
        "print('F1-Score', f1_score(y_test_doc, y_pred_doc))"
      ],
      "execution_count": 40,
      "outputs": [
        {
          "output_type": "stream",
          "text": [
            "Precision 0.7268041237113402\n",
            "Recall 0.7642276422764228\n",
            "F1-Score 0.7450462351387055\n"
          ],
          "name": "stdout"
        }
      ]
    },
    {
      "cell_type": "code",
      "metadata": {
        "id": "tNJXICs2jUT5",
        "colab_type": "code",
        "colab": {
          "base_uri": "https://localhost:8080/",
          "height": 34
        },
        "outputId": "5e9c9b48-3320-4fb2-a505-f71df01d999b"
      },
      "source": [
        "clf = LinearSVC(random_state=0).fit(X_train_doc, y_train_doc)\n",
        "y_pred_doc = clf.predict(X_test_doc)\n",
        "accuracy_score(y_test_doc, y_pred_doc)"
      ],
      "execution_count": 41,
      "outputs": [
        {
          "output_type": "execute_result",
          "data": {
            "text/plain": [
              "0.7342657342657343"
            ]
          },
          "metadata": {
            "tags": []
          },
          "execution_count": 41
        }
      ]
    },
    {
      "cell_type": "code",
      "metadata": {
        "id": "ajapOnLqjYWT",
        "colab_type": "code",
        "colab": {
          "base_uri": "https://localhost:8080/",
          "height": 229
        },
        "outputId": "bafda296-5400-49c0-a297-c4ba32d2d81d"
      },
      "source": [
        "# Confusion Matrix\n",
        "cm = confusion_matrix(y_test_doc, y_pred_doc)\n",
        "\n",
        "df_cm = pd.DataFrame(cm, index = [i for i in \"01\"], columns = [i for i in \"01\"])\n",
        "plt.figure(figsize = (5, 3))\n",
        "sns.heatmap(df_cm, annot=True, cmap='Blues', fmt='g')"
      ],
      "execution_count": 42,
      "outputs": [
        {
          "output_type": "execute_result",
          "data": {
            "text/plain": [
              "<matplotlib.axes._subplots.AxesSubplot at 0x7f61622ed518>"
            ]
          },
          "metadata": {
            "tags": []
          },
          "execution_count": 42
        },
        {
          "output_type": "display_data",
          "data": {
            "image/png": "[encoded data removed]",
            "text/plain": [
              "<Figure size 360x216 with 2 Axes>"
            ]
          },
          "metadata": {
            "tags": []
          }
        }
      ]
    },
    {
      "cell_type": "code",
      "metadata": {
        "id": "IslyK7Kfja8u",
        "colab_type": "code",
        "colab": {
          "base_uri": "https://localhost:8080/",
          "height": 68
        },
        "outputId": "7c973ffb-d2b6-4425-a227-da8caabb3842"
      },
      "source": [
        "print('Precision', precision_score(y_test_doc, y_pred_doc))\n",
        "print('Recall', recall_score(y_test_doc, y_pred_doc))\n",
        "print('F1-Score', f1_score(y_test_doc, y_pred_doc))"
      ],
      "execution_count": 43,
      "outputs": [
        {
          "output_type": "stream",
          "text": [
            "Precision 0.7312661498708011\n",
            "Recall 0.7669376693766937\n",
            "F1-Score 0.7486772486772486\n"
          ],
          "name": "stdout"
        }
      ]
    },
    {
      "cell_type": "markdown",
      "metadata": {
        "id": "bo9DgSdfoQlr",
        "colab_type": "text"
      },
      "source": [
        "### Doc2Vec + Word2Vec"
      ]
    },
    {
      "cell_type": "code",
      "metadata": {
        "colab_type": "code",
        "id": "10n9lM-e-Qgd",
        "colab": {}
      },
      "source": [
        "fts = []\n",
        "for i in range(len(tfidf_doc_vec)):\n",
        "  # combine doc2vec and word2vec features\n",
        "  ft = list(tfidf_doc_vec_scaled[i]) + list(dm_doc_vec_scaled[i])\n",
        "  fts.append(ft)\n",
        "fts = np.array(fts)"
      ],
      "execution_count": 0,
      "outputs": []
    },
    {
      "cell_type": "code",
      "metadata": {
        "id": "5uJdd3wWwV50",
        "colab_type": "code",
        "colab": {
          "base_uri": "https://localhost:8080/",
          "height": 34
        },
        "outputId": "2041669e-4c70-4f7c-d27f-6c0f13165895"
      },
      "source": [
        "fts.shape"
      ],
      "execution_count": 61,
      "outputs": [
        {
          "output_type": "execute_result",
          "data": {
            "text/plain": [
              "(3553, 600)"
            ]
          },
          "metadata": {
            "tags": []
          },
          "execution_count": 61
        }
      ]
    },
    {
      "cell_type": "code",
      "metadata": {
        "id": "L-apb4mqpKSD",
        "colab_type": "code",
        "colab": {}
      },
      "source": [
        "X = fts #scaler.fit_transform(fts)\n",
        "\n",
        "X_train_combine = X[:len(train)]\n",
        "y_train_combine = train['label']\n",
        "\n",
        "X_test_combine = X[len(train):]\n",
        "y_test_combine = test['label']"
      ],
      "execution_count": 0,
      "outputs": []
    },
    {
      "cell_type": "code",
      "metadata": {
        "id": "o4sBNDI4pNTG",
        "colab_type": "code",
        "colab": {
          "base_uri": "https://localhost:8080/",
          "height": 153
        },
        "outputId": "3ca92fce-0048-4b04-f28f-80fb6b2852ba"
      },
      "source": [
        "for name, clf in clf_dict.items():\n",
        "    model = clf.fit(X_train_combine, y_train_combine)\n",
        "    y_pred_combine = model.predict(X_test_combine)\n",
        "    print('Accuracy of {}:'.format(name), accuracy_score(y_pred_combine, y_test_combine))"
      ],
      "execution_count": 64,
      "outputs": [
        {
          "output_type": "stream",
          "text": [
            "Accuracy of log reg: 0.7272727272727273\n",
            "Accuracy of naive bayes: 0.676923076923077\n",
            "Accuracy of linear svc: 0.7034965034965035\n",
            "Accuracy of sgd classifier: 0.6713286713286714\n",
            "Accuracy of ada boost: 0.7202797202797203\n",
            "Accuracy of gradient boosting: 0.7216783216783217\n",
            "Accuracy of CART: 0.6153846153846154\n",
            "Accuracy of random forest: 0.7342657342657343\n"
          ],
          "name": "stdout"
        }
      ]
    },
    {
      "cell_type": "code",
      "metadata": {
        "id": "tTxZoJC0HrfX",
        "colab_type": "code",
        "colab": {
          "base_uri": "https://localhost:8080/",
          "height": 34
        },
        "outputId": "82043963-5079-4f85-be7b-254e7482864c"
      },
      "source": [
        "clf = RandomForestClassifier(random_state=0).fit(X_train_combine, y_train_combine)\n",
        "y_pred = clf.predict(X_test_combine)\n",
        "accuracy_score(y_test_combine, y_pred_combine)"
      ],
      "execution_count": 65,
      "outputs": [
        {
          "output_type": "execute_result",
          "data": {
            "text/plain": [
              "0.7342657342657343"
            ]
          },
          "metadata": {
            "tags": []
          },
          "execution_count": 65
        }
      ]
    },
    {
      "cell_type": "code",
      "metadata": {
        "id": "DQtwNzPnHpud",
        "colab_type": "code",
        "colab": {
          "base_uri": "https://localhost:8080/",
          "height": 228
        },
        "outputId": "74c4d042-7e0b-487c-a7a9-ed471b44b915"
      },
      "source": [
        "# Confusion Matrix\n",
        "cm = confusion_matrix(y_test, y_pred)\n",
        "\n",
        "df_cm = pd.DataFrame(cm, index = [i for i in \"01\"], columns = [i for i in \"01\"])\n",
        "plt.figure(figsize = (5, 3))\n",
        "sns.heatmap(df_cm, annot=True, cmap='Blues', fmt='g')"
      ],
      "execution_count": 66,
      "outputs": [
        {
          "output_type": "execute_result",
          "data": {
            "text/plain": [
              "<matplotlib.axes._subplots.AxesSubplot at 0x7f61621df320>"
            ]
          },
          "metadata": {
            "tags": []
          },
          "execution_count": 66
        },
        {
          "output_type": "display_data",
          "data": {
            "image/png": "[encoded data removed]",
            "text/plain": [
              "<Figure size 360x216 with 2 Axes>"
            ]
          },
          "metadata": {
            "tags": []
          }
        }
      ]
    },
    {
      "cell_type": "code",
      "metadata": {
        "id": "JZdFXFidpP14",
        "colab_type": "code",
        "colab": {
          "base_uri": "https://localhost:8080/",
          "height": 68
        },
        "outputId": "0381e494-ebc3-43df-8d6d-5737b0683c32"
      },
      "source": [
        "print('Precision', precision_score(y_test_combine, y_pred_combine))\n",
        "print('Recall', recall_score(y_test_combine, y_pred_combine))\n",
        "print('F1-Score', f1_score(y_test_combine, y_pred_combine))"
      ],
      "execution_count": 67,
      "outputs": [
        {
          "output_type": "stream",
          "text": [
            "Precision 0.6967032967032967\n",
            "Recall 0.8590785907859079\n",
            "F1-Score 0.7694174757281554\n"
          ],
          "name": "stdout"
        }
      ]
    },
    {
      "cell_type": "code",
      "metadata": {
        "id": "UdwnmenQKV8P",
        "colab_type": "code",
        "colab": {}
      },
      "source": [
        ""
      ],
      "execution_count": 0,
      "outputs": []
    }
  ]
}