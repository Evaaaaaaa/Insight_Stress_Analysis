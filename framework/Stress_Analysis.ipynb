{
 "cells": [
  {
   "cell_type": "markdown",
   "metadata": {},
   "source": [
    "# Stress Analysis in Social Media\n",
    "\n",
    "Leverage the newly published and labelled reddit dataset for stress analysis to develop and improve supervised learning methods for identifying stress, both neural and traditional, and analyze the complexity and diversity of the data and characteristics of each category."
   ]
  },
  {
   "cell_type": "code",
   "execution_count": 1,
   "metadata": {},
   "outputs": [],
   "source": [
    "import pandas as pd\n",
    "import numpy as np \n",
    "import matplotlib.pyplot as plt\n",
    "import seaborn as sns\n",
    "import re\n",
    "import string\n",
    "import nltk\n",
    "from nltk.corpus import stopwords\n",
    "from nltk.corpus import RegexpTokenizer\n",
    "from nltk.stem import WordNetLemmatizer\n",
    "from nltk.stem.porter import PorterStemmer\n",
    "from textblob import TextBlob"
   ]
  },
  {
   "cell_type": "markdown",
   "metadata": {},
   "source": [
    "## EDA"
   ]
  },
  {
   "cell_type": "code",
   "execution_count": 2,
   "metadata": {},
   "outputs": [],
   "source": [
    "path = '/Users/gillianchiang/Desktop/Insight/Project/Stress_Analysis/data/dreaddit/'\n",
    "train = pd.read_csv(path + 'dreaddit-train.csv', encoding = \"ISO-8859-1\")\n",
    "test = pd.read_csv(path + 'dreaddit-test.csv', encoding = \"ISO-8859-1\")"
   ]
  },
  {
   "cell_type": "code",
   "execution_count": 3,
   "metadata": {},
   "outputs": [
    {
     "name": "stdout",
     "output_type": "stream",
     "text": [
      "Number of train data 2838\n"
     ]
    },
    {
     "data": {
      "text/plain": [
       "<matplotlib.axes._subplots.AxesSubplot at 0x1a1a77a950>"
      ]
     },
     "execution_count": 3,
     "metadata": {},
     "output_type": "execute_result"
    },
    {
     "data": {
      "image/png": "[encoded data removed]",
      "text/plain": [
       "<Figure size 432x288 with 1 Axes>"
      ]
     },
     "metadata": {
      "needs_background": "light"
     },
     "output_type": "display_data"
    }
   ],
   "source": [
    "print('Number of train data', len(train))\n",
    "sns.countplot('label', data = train, palette='PRGn')"
   ]
  },
  {
   "cell_type": "code",
   "execution_count": 4,
   "metadata": {},
   "outputs": [
    {
     "name": "stdout",
     "output_type": "stream",
     "text": [
      "Number of train data 715\n"
     ]
    },
    {
     "data": {
      "text/plain": [
       "<matplotlib.axes._subplots.AxesSubplot at 0x1a1d2b2690>"
      ]
     },
     "execution_count": 4,
     "metadata": {},
     "output_type": "execute_result"
    },
    {
     "data": {
      "image/png": "[encoded data removed]",
      "text/plain": [
       "<Figure size 432x288 with 1 Axes>"
      ]
     },
     "metadata": {
      "needs_background": "light"
     },
     "output_type": "display_data"
    }
   ],
   "source": [
    "print('Number of train data', len(test))\n",
    "sns.countplot('label', data = test, palette='PRGn')"
   ]
  },
  {
   "cell_type": "markdown",
   "metadata": {},
   "source": [
    "When doing the presentation, can add a part of analyzing the text with lexicon-based tool such as textblob"
   ]
  },
  {
   "cell_type": "markdown",
   "metadata": {},
   "source": [
    "## Data Preprocessing\n",
    "Possible approach of data preprocessing and feature engineeing \n",
    "- Tokenization, Removal of punctuations.\n",
    "- Removal of commonly used words (stopwords).\n",
    "- Lemmatization or Stemming (Normalization)"
   ]
  },
  {
   "cell_type": "markdown",
   "metadata": {},
   "source": [
    "### Tokenization & Remove punctuations"
   ]
  },
  {
   "cell_type": "code",
   "execution_count": 5,
   "metadata": {},
   "outputs": [],
   "source": [
    "# tokenization: breaks the string into list of words\n",
    "tokenizer = RegexpTokenizer(r'\\w+')\n",
    "train['text'] = train['text'].apply(lambda x: tokenizer.tokenize(x.lower()))"
   ]
  },
  {
   "cell_type": "code",
   "execution_count": 6,
   "metadata": {},
   "outputs": [
    {
     "data": {
      "text/plain": [
       "0       [he, said, he, had, not, felt, that, way, befo...\n",
       "1       [hey, there, r, assistance, not, sure, if, thi...\n",
       "2       [my, mom, then, hit, me, with, the, newspaper,...\n",
       "3       [until, i, met, my, new, boyfriend, he, is, am...\n",
       "4       [october, is, domestic, violence, awareness, m...\n",
       "                              ...                        \n",
       "2833    [her, a, week, ago, precious, how, are, you, i...\n",
       "2834    [i, don, t, have, the, ability, to, cope, with...\n",
       "2835    [in, case, this, is, the, first, time, you, re...\n",
       "2836    [do, you, find, this, normal, they, have, a, g...\n",
       "2837    [i, was, talking, to, my, mom, this, morning, ...\n",
       "Name: text, Length: 2838, dtype: object"
      ]
     },
     "execution_count": 6,
     "metadata": {},
     "output_type": "execute_result"
    }
   ],
   "source": [
    "train['text']"
   ]
  },
  {
   "cell_type": "markdown",
   "metadata": {},
   "source": [
    "### Remove Stopwords"
   ]
  },
  {
   "cell_type": "code",
   "execution_count": 7,
   "metadata": {},
   "outputs": [],
   "source": [
    "# nltk.download('stopwords')"
   ]
  },
  {
   "cell_type": "code",
   "execution_count": 8,
   "metadata": {},
   "outputs": [],
   "source": [
    "def remove_stopwords(text):\n",
    "    words = [w for w in text if w not in stopwords.words('english')]\n",
    "    return words\n",
    "\n",
    "train['text'] = train['text'].apply(lambda x: remove_stopwords(x))"
   ]
  },
  {
   "cell_type": "code",
   "execution_count": 9,
   "metadata": {},
   "outputs": [
    {
     "data": {
      "text/plain": [
       "0       [said, felt, way, suggeted, go, rest, trigger,...\n",
       "1       [hey, r, assistance, sure, right, place, post,...\n",
       "2       [mom, hit, newspaper, shocked, would, knows, l...\n",
       "3       [met, new, boyfriend, amazing, kind, sweet, go...\n",
       "4       [october, domestic, violence, awareness, month...\n",
       "                              ...                        \n",
       "2833    [week, ago, precious, ignored, jan, 1, happy, ...\n",
       "2834    [ability, cope, anymore, trying, lot, things, ...\n",
       "2835    [case, first, time, reading, post, looking, pe...\n",
       "2836    [find, normal, good, relationship, main, probl...\n",
       "2837    [talking, mom, morning, said, sister, trauma, ...\n",
       "Name: text, Length: 2838, dtype: object"
      ]
     },
     "execution_count": 9,
     "metadata": {},
     "output_type": "execute_result"
    }
   ],
   "source": [
    "train['text']"
   ]
  },
  {
   "cell_type": "markdown",
   "metadata": {},
   "source": [
    "### Stemming & Lemmatization\n",
    "Text normalization"
   ]
  },
  {
   "cell_type": "code",
   "execution_count": 10,
   "metadata": {},
   "outputs": [],
   "source": [
    "# nltk.download('wordnet')"
   ]
  },
  {
   "cell_type": "code",
   "execution_count": 11,
   "metadata": {},
   "outputs": [
    {
     "data": {
      "text/plain": [
       "0       [said, felt, way, sugget, go, rest, trigger, a...\n",
       "1       [hey, r, assist, sure, right, place, post, goe...\n",
       "2       [mom, hit, newspap, shock, would, know, like, ...\n",
       "3       [met, new, boyfriend, amaz, kind, sweet, good,...\n",
       "4       [octob, domest, violenc, awar, month, domest, ...\n",
       "                              ...                        \n",
       "2833    [week, ago, preciou, ignor, jan, 1, happi, yea...\n",
       "2834    [abil, cope, anymor, tri, lot, thing, trigger,...\n",
       "2835    [case, first, time, read, post, look, peopl, w...\n",
       "2836    [find, normal, good, relationship, main, probl...\n",
       "2837    [talk, mom, morn, said, sister, trauma, wors, ...\n",
       "Name: text, Length: 2838, dtype: object"
      ]
     },
     "execution_count": 11,
     "metadata": {},
     "output_type": "execute_result"
    }
   ],
   "source": [
    "# stemming\n",
    "stemmer = PorterStemmer()\n",
    "\n",
    "def word_stemmer(text):\n",
    "    stem_text = [stemmer.stem(i) for i in text]\n",
    "    return stem_text\n",
    "\n",
    "train['text'] = train['text'].apply(lambda x: word_stemmer(x))\n",
    "train['text']"
   ]
  },
  {
   "cell_type": "code",
   "execution_count": null,
   "metadata": {},
   "outputs": [],
   "source": [
    "# lemmatization\n",
    "# lemmatizer = WordNetLemmatizer()\n",
    "\n",
    "# def word_lemmatizer(text):\n",
    "#     lem_text = [lemmatizer.lemmatize(i) for i in text]\n",
    "#     return lem_text\n",
    "\n",
    "# train['text'] = train['text'].apply(lambda x: word_lemmatizer(x))\n",
    "# train['text']"
   ]
  },
  {
   "cell_type": "code",
   "execution_count": null,
   "metadata": {},
   "outputs": [],
   "source": []
  },
  {
   "cell_type": "markdown",
   "metadata": {},
   "source": [
    "## Feature Extraction\n",
    "- vectorization\n",
    "- n-grams"
   ]
  },
  {
   "cell_type": "code",
   "execution_count": null,
   "metadata": {},
   "outputs": [],
   "source": []
  },
  {
   "cell_type": "markdown",
   "metadata": {},
   "source": [
    "## Classification"
   ]
  },
  {
   "cell_type": "code",
   "execution_count": null,
   "metadata": {},
   "outputs": [],
   "source": []
  }
 ],
 "metadata": {
  "kernelspec": {
   "display_name": "Python 3",
   "language": "python",
   "name": "python3"
  },
  "language_info": {
   "codemirror_mode": {
    "name": "ipython",
    "version": 3
   },
   "file_extension": ".py",
   "mimetype": "text/x-python",
   "name": "python",
   "nbconvert_exporter": "python",
   "pygments_lexer": "ipython3",
   "version": "3.7.4"
  },
  "toc": {
   "base_numbering": 1,
   "nav_menu": {},
   "number_sections": true,
   "sideBar": true,
   "skip_h1_title": true,
   "title_cell": "Table of Contents",
   "title_sidebar": "Contents",
   "toc_cell": false,
   "toc_position": {},
   "toc_section_display": true,
   "toc_window_display": true
  }
 },
 "nbformat": 4,
 "nbformat_minor": 2
}
